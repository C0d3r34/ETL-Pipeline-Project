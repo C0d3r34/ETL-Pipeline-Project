{
 "cells": [
  {
   "cell_type": "code",
   "execution_count": 1,
   "id": "c9dd2c90",
   "metadata": {
    "_cell_guid": "b1076dfc-b9ad-4769-8c92-a6c4dae69d19",
    "_uuid": "8f2839f25d086af736a60e9eeb907d3b93b6e0e5",
    "execution": {
     "iopub.execute_input": "2025-01-24T16:35:54.200762Z",
     "iopub.status.busy": "2025-01-24T16:35:54.200374Z",
     "iopub.status.idle": "2025-01-24T16:35:55.002847Z",
     "shell.execute_reply": "2025-01-24T16:35:55.001828Z"
    },
    "papermill": {
     "duration": 0.813083,
     "end_time": "2025-01-24T16:35:55.004500",
     "exception": false,
     "start_time": "2025-01-24T16:35:54.191417",
     "status": "completed"
    },
    "tags": []
   },
   "outputs": [
    {
     "name": "stdout",
     "output_type": "stream",
     "text": [
      "/kaggle/input/sales-forecasting/train.csv\n"
     ]
    }
   ],
   "source": [
    "# This Python 3 environment comes with many helpful analytics libraries installed\n",
    "# It is defined by the kaggle/python Docker image: https://github.com/kaggle/docker-python\n",
    "# For example, here's several helpful packages to load\n",
    "\n",
    "import numpy as np # linear algebra\n",
    "import pandas as pd # data processing, CSV file I/O (e.g. pd.read_csv)\n",
    "\n",
    "# Input data files are available in the read-only \"../input/\" directory\n",
    "# For example, running this (by clicking run or pressing Shift+Enter) will list all files under the input directory\n",
    "\n",
    "import os\n",
    "for dirname, _, filenames in os.walk('/kaggle/input'):\n",
    "    for filename in filenames:\n",
    "        print(os.path.join(dirname, filename))\n",
    "\n",
    "import sqlite3\n",
    "\n",
    "# You can write up to 20GB to the current directory (/kaggle/working/) that gets preserved as output when you create a version using \"Save & Run All\" \n",
    "# You can also write temporary files to /kaggle/temp/, but they won't be saved outside of the current session"
   ]
  },
  {
   "cell_type": "code",
   "execution_count": 2,
   "id": "dae9a43e",
   "metadata": {
    "execution": {
     "iopub.execute_input": "2025-01-24T16:35:55.016459Z",
     "iopub.status.busy": "2025-01-24T16:35:55.015984Z",
     "iopub.status.idle": "2025-01-24T16:35:55.131873Z",
     "shell.execute_reply": "2025-01-24T16:35:55.130772Z"
    },
    "papermill": {
     "duration": 0.123341,
     "end_time": "2025-01-24T16:35:55.133525",
     "exception": false,
     "start_time": "2025-01-24T16:35:55.010184",
     "status": "completed"
    },
    "tags": []
   },
   "outputs": [
    {
     "name": "stdout",
     "output_type": "stream",
     "text": [
      "['sales-forecasting']\n",
      "   Row ID        Order ID  Order Date   Ship Date       Ship Mode Customer ID  \\\n",
      "0       1  CA-2017-152156  08/11/2017  11/11/2017    Second Class    CG-12520   \n",
      "1       2  CA-2017-152156  08/11/2017  11/11/2017    Second Class    CG-12520   \n",
      "2       3  CA-2017-138688  12/06/2017  16/06/2017    Second Class    DV-13045   \n",
      "3       4  US-2016-108966  11/10/2016  18/10/2016  Standard Class    SO-20335   \n",
      "4       5  US-2016-108966  11/10/2016  18/10/2016  Standard Class    SO-20335   \n",
      "5       6  CA-2015-115812  09/06/2015  14/06/2015  Standard Class    BH-11710   \n",
      "6       7  CA-2015-115812  09/06/2015  14/06/2015  Standard Class    BH-11710   \n",
      "7       8  CA-2015-115812  09/06/2015  14/06/2015  Standard Class    BH-11710   \n",
      "8       9  CA-2015-115812  09/06/2015  14/06/2015  Standard Class    BH-11710   \n",
      "9      10  CA-2015-115812  09/06/2015  14/06/2015  Standard Class    BH-11710   \n",
      "\n",
      "     Customer Name    Segment        Country             City       State  \\\n",
      "0      Claire Gute   Consumer  United States        Henderson    Kentucky   \n",
      "1      Claire Gute   Consumer  United States        Henderson    Kentucky   \n",
      "2  Darrin Van Huff  Corporate  United States      Los Angeles  California   \n",
      "3   Sean O'Donnell   Consumer  United States  Fort Lauderdale     Florida   \n",
      "4   Sean O'Donnell   Consumer  United States  Fort Lauderdale     Florida   \n",
      "5  Brosina Hoffman   Consumer  United States      Los Angeles  California   \n",
      "6  Brosina Hoffman   Consumer  United States      Los Angeles  California   \n",
      "7  Brosina Hoffman   Consumer  United States      Los Angeles  California   \n",
      "8  Brosina Hoffman   Consumer  United States      Los Angeles  California   \n",
      "9  Brosina Hoffman   Consumer  United States      Los Angeles  California   \n",
      "\n",
      "   Postal Code Region       Product ID         Category Sub-Category  \\\n",
      "0      42420.0  South  FUR-BO-10001798        Furniture    Bookcases   \n",
      "1      42420.0  South  FUR-CH-10000454        Furniture       Chairs   \n",
      "2      90036.0   West  OFF-LA-10000240  Office Supplies       Labels   \n",
      "3      33311.0  South  FUR-TA-10000577        Furniture       Tables   \n",
      "4      33311.0  South  OFF-ST-10000760  Office Supplies      Storage   \n",
      "5      90032.0   West  FUR-FU-10001487        Furniture  Furnishings   \n",
      "6      90032.0   West  OFF-AR-10002833  Office Supplies          Art   \n",
      "7      90032.0   West  TEC-PH-10002275       Technology       Phones   \n",
      "8      90032.0   West  OFF-BI-10003910  Office Supplies      Binders   \n",
      "9      90032.0   West  OFF-AP-10002892  Office Supplies   Appliances   \n",
      "\n",
      "                                        Product Name     Sales  \n",
      "0                  Bush Somerset Collection Bookcase  261.9600  \n",
      "1  Hon Deluxe Fabric Upholstered Stacking Chairs,...  731.9400  \n",
      "2  Self-Adhesive Address Labels for Typewriters b...   14.6200  \n",
      "3      Bretford CR4500 Series Slim Rectangular Table  957.5775  \n",
      "4                     Eldon Fold 'N Roll Cart System   22.3680  \n",
      "5  Eldon Expressions Wood and Plastic Desk Access...   48.8600  \n",
      "6                                         Newell 322    7.2800  \n",
      "7                     Mitel 5320 IP Phone VoIP phone  907.1520  \n",
      "8  DXL Angle-View Binders with Locking Rings by S...   18.5040  \n",
      "9                   Belkin F5C206VTEL 6 Outlet Surge  114.9000  \n"
     ]
    }
   ],
   "source": [
    "print(os.listdir('/kaggle/input/'))\n",
    "df = pd.read_csv('/kaggle/input/sales-forecasting/train.csv')\n",
    "print(df.head(10))\n",
    "\n",
    "\n",
    "\n",
    "\n",
    "\n"
   ]
  },
  {
   "cell_type": "code",
   "execution_count": 3,
   "id": "1a0f9bbc",
   "metadata": {
    "execution": {
     "iopub.execute_input": "2025-01-24T16:35:55.145433Z",
     "iopub.status.busy": "2025-01-24T16:35:55.145089Z",
     "iopub.status.idle": "2025-01-24T16:35:55.160651Z",
     "shell.execute_reply": "2025-01-24T16:35:55.159676Z"
    },
    "papermill": {
     "duration": 0.023284,
     "end_time": "2025-01-24T16:35:55.162256",
     "exception": false,
     "start_time": "2025-01-24T16:35:55.138972",
     "status": "completed"
    },
    "tags": []
   },
   "outputs": [
    {
     "name": "stdout",
     "output_type": "stream",
     "text": [
      "Row ID            0\n",
      "Order ID          0\n",
      "Order Date        0\n",
      "Ship Date         0\n",
      "Ship Mode         0\n",
      "Customer ID       0\n",
      "Customer Name     0\n",
      "Segment           0\n",
      "Country           0\n",
      "City              0\n",
      "State             0\n",
      "Postal Code      11\n",
      "Region            0\n",
      "Product ID        0\n",
      "Category          0\n",
      "Sub-Category      0\n",
      "Product Name      0\n",
      "Sales             0\n",
      "dtype: int64\n"
     ]
    }
   ],
   "source": [
    "print(df.isnull().sum())\n",
    "\n"
   ]
  },
  {
   "cell_type": "code",
   "execution_count": 4,
   "id": "eabae0c5",
   "metadata": {
    "execution": {
     "iopub.execute_input": "2025-01-24T16:35:55.174209Z",
     "iopub.status.busy": "2025-01-24T16:35:55.173877Z",
     "iopub.status.idle": "2025-01-24T16:35:55.177967Z",
     "shell.execute_reply": "2025-01-24T16:35:55.177212Z"
    },
    "papermill": {
     "duration": 0.011875,
     "end_time": "2025-01-24T16:35:55.179628",
     "exception": false,
     "start_time": "2025-01-24T16:35:55.167753",
     "status": "completed"
    },
    "tags": []
   },
   "outputs": [
    {
     "name": "stdout",
     "output_type": "stream",
     "text": [
      "Index(['Row ID', 'Order ID', 'Order Date', 'Ship Date', 'Ship Mode',\n",
      "       'Customer ID', 'Customer Name', 'Segment', 'Country', 'City', 'State',\n",
      "       'Postal Code', 'Region', 'Product ID', 'Category', 'Sub-Category',\n",
      "       'Product Name', 'Sales'],\n",
      "      dtype='object')\n"
     ]
    }
   ],
   "source": [
    "print(df.columns)\n",
    "\n",
    "\n"
   ]
  },
  {
   "cell_type": "code",
   "execution_count": 5,
   "id": "61dc8de6",
   "metadata": {
    "execution": {
     "iopub.execute_input": "2025-01-24T16:35:55.191238Z",
     "iopub.status.busy": "2025-01-24T16:35:55.190916Z",
     "iopub.status.idle": "2025-01-24T16:35:55.197338Z",
     "shell.execute_reply": "2025-01-24T16:35:55.196373Z"
    },
    "papermill": {
     "duration": 0.013785,
     "end_time": "2025-01-24T16:35:55.198803",
     "exception": false,
     "start_time": "2025-01-24T16:35:55.185018",
     "status": "completed"
    },
    "tags": []
   },
   "outputs": [
    {
     "name": "stdout",
     "output_type": "stream",
     "text": [
      "0       42420.0\n",
      "1       42420.0\n",
      "2       90036.0\n",
      "3       33311.0\n",
      "4       33311.0\n",
      "         ...   \n",
      "9795    60610.0\n",
      "9796    43615.0\n",
      "9797    43615.0\n",
      "9798    43615.0\n",
      "9799    43615.0\n",
      "Name: Postal Code, Length: 9800, dtype: float64\n"
     ]
    }
   ],
   "source": [
    "print(df.loc[: , \"Postal Code\"])"
   ]
  },
  {
   "cell_type": "code",
   "execution_count": 6,
   "id": "209c7c54",
   "metadata": {
    "execution": {
     "iopub.execute_input": "2025-01-24T16:35:55.210762Z",
     "iopub.status.busy": "2025-01-24T16:35:55.210431Z",
     "iopub.status.idle": "2025-01-24T16:35:55.247578Z",
     "shell.execute_reply": "2025-01-24T16:35:55.246525Z"
    },
    "papermill": {
     "duration": 0.045076,
     "end_time": "2025-01-24T16:35:55.249449",
     "exception": false,
     "start_time": "2025-01-24T16:35:55.204373",
     "status": "completed"
    },
    "tags": []
   },
   "outputs": [
    {
     "data": {
      "text/html": [
       "<div>\n",
       "<style scoped>\n",
       "    .dataframe tbody tr th:only-of-type {\n",
       "        vertical-align: middle;\n",
       "    }\n",
       "\n",
       "    .dataframe tbody tr th {\n",
       "        vertical-align: top;\n",
       "    }\n",
       "\n",
       "    .dataframe thead th {\n",
       "        text-align: right;\n",
       "    }\n",
       "</style>\n",
       "<table border=\"1\" class=\"dataframe\">\n",
       "  <thead>\n",
       "    <tr style=\"text-align: right;\">\n",
       "      <th></th>\n",
       "      <th>Row ID</th>\n",
       "      <th>Order ID</th>\n",
       "      <th>Order Date</th>\n",
       "      <th>Ship Date</th>\n",
       "      <th>Ship Mode</th>\n",
       "      <th>Customer ID</th>\n",
       "      <th>Customer Name</th>\n",
       "      <th>Segment</th>\n",
       "      <th>Country</th>\n",
       "      <th>City</th>\n",
       "      <th>State</th>\n",
       "      <th>Postal Code</th>\n",
       "      <th>Region</th>\n",
       "      <th>Product ID</th>\n",
       "      <th>Category</th>\n",
       "      <th>Sub-Category</th>\n",
       "      <th>Product Name</th>\n",
       "      <th>Sales</th>\n",
       "    </tr>\n",
       "  </thead>\n",
       "  <tbody>\n",
       "    <tr>\n",
       "      <th>0</th>\n",
       "      <td>1</td>\n",
       "      <td>CA-2017-152156</td>\n",
       "      <td>08/11/2017</td>\n",
       "      <td>11/11/2017</td>\n",
       "      <td>Second Class</td>\n",
       "      <td>CG-12520</td>\n",
       "      <td>Claire Gute</td>\n",
       "      <td>Consumer</td>\n",
       "      <td>United States</td>\n",
       "      <td>Henderson</td>\n",
       "      <td>Kentucky</td>\n",
       "      <td>42420.0</td>\n",
       "      <td>South</td>\n",
       "      <td>FUR-BO-10001798</td>\n",
       "      <td>Furniture</td>\n",
       "      <td>Bookcases</td>\n",
       "      <td>Bush Somerset Collection Bookcase</td>\n",
       "      <td>261.9600</td>\n",
       "    </tr>\n",
       "    <tr>\n",
       "      <th>1</th>\n",
       "      <td>2</td>\n",
       "      <td>CA-2017-152156</td>\n",
       "      <td>08/11/2017</td>\n",
       "      <td>11/11/2017</td>\n",
       "      <td>Second Class</td>\n",
       "      <td>CG-12520</td>\n",
       "      <td>Claire Gute</td>\n",
       "      <td>Consumer</td>\n",
       "      <td>United States</td>\n",
       "      <td>Henderson</td>\n",
       "      <td>Kentucky</td>\n",
       "      <td>42420.0</td>\n",
       "      <td>South</td>\n",
       "      <td>FUR-CH-10000454</td>\n",
       "      <td>Furniture</td>\n",
       "      <td>Chairs</td>\n",
       "      <td>Hon Deluxe Fabric Upholstered Stacking Chairs,...</td>\n",
       "      <td>731.9400</td>\n",
       "    </tr>\n",
       "    <tr>\n",
       "      <th>2</th>\n",
       "      <td>3</td>\n",
       "      <td>CA-2017-138688</td>\n",
       "      <td>12/06/2017</td>\n",
       "      <td>16/06/2017</td>\n",
       "      <td>Second Class</td>\n",
       "      <td>DV-13045</td>\n",
       "      <td>Darrin Van Huff</td>\n",
       "      <td>Corporate</td>\n",
       "      <td>United States</td>\n",
       "      <td>Los Angeles</td>\n",
       "      <td>California</td>\n",
       "      <td>90036.0</td>\n",
       "      <td>West</td>\n",
       "      <td>OFF-LA-10000240</td>\n",
       "      <td>Office Supplies</td>\n",
       "      <td>Labels</td>\n",
       "      <td>Self-Adhesive Address Labels for Typewriters b...</td>\n",
       "      <td>14.6200</td>\n",
       "    </tr>\n",
       "    <tr>\n",
       "      <th>3</th>\n",
       "      <td>4</td>\n",
       "      <td>US-2016-108966</td>\n",
       "      <td>11/10/2016</td>\n",
       "      <td>18/10/2016</td>\n",
       "      <td>Standard Class</td>\n",
       "      <td>SO-20335</td>\n",
       "      <td>Sean O'Donnell</td>\n",
       "      <td>Consumer</td>\n",
       "      <td>United States</td>\n",
       "      <td>Fort Lauderdale</td>\n",
       "      <td>Florida</td>\n",
       "      <td>33311.0</td>\n",
       "      <td>South</td>\n",
       "      <td>FUR-TA-10000577</td>\n",
       "      <td>Furniture</td>\n",
       "      <td>Tables</td>\n",
       "      <td>Bretford CR4500 Series Slim Rectangular Table</td>\n",
       "      <td>957.5775</td>\n",
       "    </tr>\n",
       "    <tr>\n",
       "      <th>4</th>\n",
       "      <td>5</td>\n",
       "      <td>US-2016-108966</td>\n",
       "      <td>11/10/2016</td>\n",
       "      <td>18/10/2016</td>\n",
       "      <td>Standard Class</td>\n",
       "      <td>SO-20335</td>\n",
       "      <td>Sean O'Donnell</td>\n",
       "      <td>Consumer</td>\n",
       "      <td>United States</td>\n",
       "      <td>Fort Lauderdale</td>\n",
       "      <td>Florida</td>\n",
       "      <td>33311.0</td>\n",
       "      <td>South</td>\n",
       "      <td>OFF-ST-10000760</td>\n",
       "      <td>Office Supplies</td>\n",
       "      <td>Storage</td>\n",
       "      <td>Eldon Fold 'N Roll Cart System</td>\n",
       "      <td>22.3680</td>\n",
       "    </tr>\n",
       "    <tr>\n",
       "      <th>...</th>\n",
       "      <td>...</td>\n",
       "      <td>...</td>\n",
       "      <td>...</td>\n",
       "      <td>...</td>\n",
       "      <td>...</td>\n",
       "      <td>...</td>\n",
       "      <td>...</td>\n",
       "      <td>...</td>\n",
       "      <td>...</td>\n",
       "      <td>...</td>\n",
       "      <td>...</td>\n",
       "      <td>...</td>\n",
       "      <td>...</td>\n",
       "      <td>...</td>\n",
       "      <td>...</td>\n",
       "      <td>...</td>\n",
       "      <td>...</td>\n",
       "      <td>...</td>\n",
       "    </tr>\n",
       "    <tr>\n",
       "      <th>9795</th>\n",
       "      <td>9796</td>\n",
       "      <td>CA-2017-125920</td>\n",
       "      <td>21/05/2017</td>\n",
       "      <td>28/05/2017</td>\n",
       "      <td>Standard Class</td>\n",
       "      <td>SH-19975</td>\n",
       "      <td>Sally Hughsby</td>\n",
       "      <td>Corporate</td>\n",
       "      <td>United States</td>\n",
       "      <td>Chicago</td>\n",
       "      <td>Illinois</td>\n",
       "      <td>60610.0</td>\n",
       "      <td>Central</td>\n",
       "      <td>OFF-BI-10003429</td>\n",
       "      <td>Office Supplies</td>\n",
       "      <td>Binders</td>\n",
       "      <td>Cardinal HOLDit! Binder Insert Strips,Extra St...</td>\n",
       "      <td>3.7980</td>\n",
       "    </tr>\n",
       "    <tr>\n",
       "      <th>9796</th>\n",
       "      <td>9797</td>\n",
       "      <td>CA-2016-128608</td>\n",
       "      <td>12/01/2016</td>\n",
       "      <td>17/01/2016</td>\n",
       "      <td>Standard Class</td>\n",
       "      <td>CS-12490</td>\n",
       "      <td>Cindy Schnelling</td>\n",
       "      <td>Corporate</td>\n",
       "      <td>United States</td>\n",
       "      <td>Toledo</td>\n",
       "      <td>Ohio</td>\n",
       "      <td>43615.0</td>\n",
       "      <td>East</td>\n",
       "      <td>OFF-AR-10001374</td>\n",
       "      <td>Office Supplies</td>\n",
       "      <td>Art</td>\n",
       "      <td>BIC Brite Liner Highlighters, Chisel Tip</td>\n",
       "      <td>10.3680</td>\n",
       "    </tr>\n",
       "    <tr>\n",
       "      <th>9797</th>\n",
       "      <td>9798</td>\n",
       "      <td>CA-2016-128608</td>\n",
       "      <td>12/01/2016</td>\n",
       "      <td>17/01/2016</td>\n",
       "      <td>Standard Class</td>\n",
       "      <td>CS-12490</td>\n",
       "      <td>Cindy Schnelling</td>\n",
       "      <td>Corporate</td>\n",
       "      <td>United States</td>\n",
       "      <td>Toledo</td>\n",
       "      <td>Ohio</td>\n",
       "      <td>43615.0</td>\n",
       "      <td>East</td>\n",
       "      <td>TEC-PH-10004977</td>\n",
       "      <td>Technology</td>\n",
       "      <td>Phones</td>\n",
       "      <td>GE 30524EE4</td>\n",
       "      <td>235.1880</td>\n",
       "    </tr>\n",
       "    <tr>\n",
       "      <th>9798</th>\n",
       "      <td>9799</td>\n",
       "      <td>CA-2016-128608</td>\n",
       "      <td>12/01/2016</td>\n",
       "      <td>17/01/2016</td>\n",
       "      <td>Standard Class</td>\n",
       "      <td>CS-12490</td>\n",
       "      <td>Cindy Schnelling</td>\n",
       "      <td>Corporate</td>\n",
       "      <td>United States</td>\n",
       "      <td>Toledo</td>\n",
       "      <td>Ohio</td>\n",
       "      <td>43615.0</td>\n",
       "      <td>East</td>\n",
       "      <td>TEC-PH-10000912</td>\n",
       "      <td>Technology</td>\n",
       "      <td>Phones</td>\n",
       "      <td>Anker 24W Portable Micro USB Car Charger</td>\n",
       "      <td>26.3760</td>\n",
       "    </tr>\n",
       "    <tr>\n",
       "      <th>9799</th>\n",
       "      <td>9800</td>\n",
       "      <td>CA-2016-128608</td>\n",
       "      <td>12/01/2016</td>\n",
       "      <td>17/01/2016</td>\n",
       "      <td>Standard Class</td>\n",
       "      <td>CS-12490</td>\n",
       "      <td>Cindy Schnelling</td>\n",
       "      <td>Corporate</td>\n",
       "      <td>United States</td>\n",
       "      <td>Toledo</td>\n",
       "      <td>Ohio</td>\n",
       "      <td>43615.0</td>\n",
       "      <td>East</td>\n",
       "      <td>TEC-AC-10000487</td>\n",
       "      <td>Technology</td>\n",
       "      <td>Accessories</td>\n",
       "      <td>SanDisk Cruzer 4 GB USB Flash Drive</td>\n",
       "      <td>10.3840</td>\n",
       "    </tr>\n",
       "  </tbody>\n",
       "</table>\n",
       "<p>9800 rows × 18 columns</p>\n",
       "</div>"
      ],
      "text/plain": [
       "      Row ID        Order ID  Order Date   Ship Date       Ship Mode  \\\n",
       "0          1  CA-2017-152156  08/11/2017  11/11/2017    Second Class   \n",
       "1          2  CA-2017-152156  08/11/2017  11/11/2017    Second Class   \n",
       "2          3  CA-2017-138688  12/06/2017  16/06/2017    Second Class   \n",
       "3          4  US-2016-108966  11/10/2016  18/10/2016  Standard Class   \n",
       "4          5  US-2016-108966  11/10/2016  18/10/2016  Standard Class   \n",
       "...      ...             ...         ...         ...             ...   \n",
       "9795    9796  CA-2017-125920  21/05/2017  28/05/2017  Standard Class   \n",
       "9796    9797  CA-2016-128608  12/01/2016  17/01/2016  Standard Class   \n",
       "9797    9798  CA-2016-128608  12/01/2016  17/01/2016  Standard Class   \n",
       "9798    9799  CA-2016-128608  12/01/2016  17/01/2016  Standard Class   \n",
       "9799    9800  CA-2016-128608  12/01/2016  17/01/2016  Standard Class   \n",
       "\n",
       "     Customer ID     Customer Name    Segment        Country             City  \\\n",
       "0       CG-12520       Claire Gute   Consumer  United States        Henderson   \n",
       "1       CG-12520       Claire Gute   Consumer  United States        Henderson   \n",
       "2       DV-13045   Darrin Van Huff  Corporate  United States      Los Angeles   \n",
       "3       SO-20335    Sean O'Donnell   Consumer  United States  Fort Lauderdale   \n",
       "4       SO-20335    Sean O'Donnell   Consumer  United States  Fort Lauderdale   \n",
       "...          ...               ...        ...            ...              ...   \n",
       "9795    SH-19975     Sally Hughsby  Corporate  United States          Chicago   \n",
       "9796    CS-12490  Cindy Schnelling  Corporate  United States           Toledo   \n",
       "9797    CS-12490  Cindy Schnelling  Corporate  United States           Toledo   \n",
       "9798    CS-12490  Cindy Schnelling  Corporate  United States           Toledo   \n",
       "9799    CS-12490  Cindy Schnelling  Corporate  United States           Toledo   \n",
       "\n",
       "           State Postal Code   Region       Product ID         Category  \\\n",
       "0       Kentucky     42420.0    South  FUR-BO-10001798        Furniture   \n",
       "1       Kentucky     42420.0    South  FUR-CH-10000454        Furniture   \n",
       "2     California     90036.0     West  OFF-LA-10000240  Office Supplies   \n",
       "3        Florida     33311.0    South  FUR-TA-10000577        Furniture   \n",
       "4        Florida     33311.0    South  OFF-ST-10000760  Office Supplies   \n",
       "...          ...         ...      ...              ...              ...   \n",
       "9795    Illinois     60610.0  Central  OFF-BI-10003429  Office Supplies   \n",
       "9796        Ohio     43615.0     East  OFF-AR-10001374  Office Supplies   \n",
       "9797        Ohio     43615.0     East  TEC-PH-10004977       Technology   \n",
       "9798        Ohio     43615.0     East  TEC-PH-10000912       Technology   \n",
       "9799        Ohio     43615.0     East  TEC-AC-10000487       Technology   \n",
       "\n",
       "     Sub-Category                                       Product Name     Sales  \n",
       "0       Bookcases                  Bush Somerset Collection Bookcase  261.9600  \n",
       "1          Chairs  Hon Deluxe Fabric Upholstered Stacking Chairs,...  731.9400  \n",
       "2          Labels  Self-Adhesive Address Labels for Typewriters b...   14.6200  \n",
       "3          Tables      Bretford CR4500 Series Slim Rectangular Table  957.5775  \n",
       "4         Storage                     Eldon Fold 'N Roll Cart System   22.3680  \n",
       "...           ...                                                ...       ...  \n",
       "9795      Binders  Cardinal HOLDit! Binder Insert Strips,Extra St...    3.7980  \n",
       "9796          Art           BIC Brite Liner Highlighters, Chisel Tip   10.3680  \n",
       "9797       Phones                                        GE 30524EE4  235.1880  \n",
       "9798       Phones           Anker 24W Portable Micro USB Car Charger   26.3760  \n",
       "9799  Accessories                SanDisk Cruzer 4 GB USB Flash Drive   10.3840  \n",
       "\n",
       "[9800 rows x 18 columns]"
      ]
     },
     "execution_count": 6,
     "metadata": {},
     "output_type": "execute_result"
    }
   ],
   "source": [
    "df.fillna(\"Unknown\")"
   ]
  },
  {
   "cell_type": "code",
   "execution_count": 7,
   "id": "4da56290",
   "metadata": {
    "execution": {
     "iopub.execute_input": "2025-01-24T16:35:55.263131Z",
     "iopub.status.busy": "2025-01-24T16:35:55.262784Z",
     "iopub.status.idle": "2025-01-24T16:35:55.269210Z",
     "shell.execute_reply": "2025-01-24T16:35:55.268286Z"
    },
    "papermill": {
     "duration": 0.014957,
     "end_time": "2025-01-24T16:35:55.270699",
     "exception": false,
     "start_time": "2025-01-24T16:35:55.255742",
     "status": "completed"
    },
    "tags": []
   },
   "outputs": [
    {
     "name": "stdout",
     "output_type": "stream",
     "text": [
      "Empty DataFrame\n",
      "Columns: [Row ID, Order ID, Order Date, Ship Date, Ship Mode, Customer ID, Customer Name, Segment, Country, City, State, Postal Code, Region, Product ID, Category, Sub-Category, Product Name, Sales]\n",
      "Index: []\n"
     ]
    }
   ],
   "source": [
    "print(df[df[\"Postal Code\"] == \"Unknown\"])"
   ]
  },
  {
   "cell_type": "code",
   "execution_count": 8,
   "id": "9e7dfeaf",
   "metadata": {
    "execution": {
     "iopub.execute_input": "2025-01-24T16:35:55.284511Z",
     "iopub.status.busy": "2025-01-24T16:35:55.284198Z",
     "iopub.status.idle": "2025-01-24T16:35:55.288680Z",
     "shell.execute_reply": "2025-01-24T16:35:55.287837Z"
    },
    "papermill": {
     "duration": 0.013555,
     "end_time": "2025-01-24T16:35:55.290382",
     "exception": false,
     "start_time": "2025-01-24T16:35:55.276827",
     "status": "completed"
    },
    "tags": []
   },
   "outputs": [],
   "source": [
    "df.rename(columns=lambda x: x.strip().lower().replace(' ', '_'), inplace=True)\n",
    "\n"
   ]
  },
  {
   "cell_type": "code",
   "execution_count": 9,
   "id": "cfe64010",
   "metadata": {
    "execution": {
     "iopub.execute_input": "2025-01-24T16:35:55.303774Z",
     "iopub.status.busy": "2025-01-24T16:35:55.303476Z",
     "iopub.status.idle": "2025-01-24T16:35:55.325188Z",
     "shell.execute_reply": "2025-01-24T16:35:55.324227Z"
    },
    "papermill": {
     "duration": 0.030343,
     "end_time": "2025-01-24T16:35:55.326871",
     "exception": false,
     "start_time": "2025-01-24T16:35:55.296528",
     "status": "completed"
    },
    "tags": []
   },
   "outputs": [
    {
     "name": "stdout",
     "output_type": "stream",
     "text": [
      "0\n"
     ]
    }
   ],
   "source": [
    "print(df.duplicated().sum())"
   ]
  },
  {
   "cell_type": "markdown",
   "id": "8e15d9b6",
   "metadata": {
    "execution": {
     "iopub.execute_input": "2025-01-23T02:00:13.383048Z",
     "iopub.status.busy": "2025-01-23T02:00:13.382526Z",
     "iopub.status.idle": "2025-01-23T02:00:13.390405Z",
     "shell.execute_reply": "2025-01-23T02:00:13.389015Z",
     "shell.execute_reply.started": "2025-01-23T02:00:13.383007Z"
    },
    "papermill": {
     "duration": 0.005767,
     "end_time": "2025-01-24T16:35:55.338919",
     "exception": false,
     "start_time": "2025-01-24T16:35:55.333152",
     "status": "completed"
    },
    "tags": []
   },
   "source": [
    "print(df[\"Order Date\"].dtype)"
   ]
  },
  {
   "cell_type": "markdown",
   "id": "ebe79b82",
   "metadata": {
    "papermill": {
     "duration": 0.005622,
     "end_time": "2025-01-24T16:35:55.350626",
     "exception": false,
     "start_time": "2025-01-24T16:35:55.345004",
     "status": "completed"
    },
    "tags": []
   },
   "source": []
  },
  {
   "cell_type": "code",
   "execution_count": 10,
   "id": "2bee90b7",
   "metadata": {
    "execution": {
     "iopub.execute_input": "2025-01-24T16:35:55.363584Z",
     "iopub.status.busy": "2025-01-24T16:35:55.363241Z",
     "iopub.status.idle": "2025-01-24T16:35:55.369196Z",
     "shell.execute_reply": "2025-01-24T16:35:55.368233Z"
    },
    "papermill": {
     "duration": 0.014292,
     "end_time": "2025-01-24T16:35:55.370843",
     "exception": false,
     "start_time": "2025-01-24T16:35:55.356551",
     "status": "completed"
    },
    "tags": []
   },
   "outputs": [
    {
     "name": "stdout",
     "output_type": "stream",
     "text": [
      "object\n"
     ]
    }
   ],
   "source": [
    "df['order_date'] = df['order_date'].astype(\"str\")\n",
    "print(df[\"order_date\"].dtype)"
   ]
  },
  {
   "cell_type": "code",
   "execution_count": 11,
   "id": "e88ebe2e",
   "metadata": {
    "execution": {
     "iopub.execute_input": "2025-01-24T16:35:55.384926Z",
     "iopub.status.busy": "2025-01-24T16:35:55.384579Z",
     "iopub.status.idle": "2025-01-24T16:35:55.389918Z",
     "shell.execute_reply": "2025-01-24T16:35:55.388916Z"
    },
    "papermill": {
     "duration": 0.013887,
     "end_time": "2025-01-24T16:35:55.391360",
     "exception": false,
     "start_time": "2025-01-24T16:35:55.377473",
     "status": "completed"
    },
    "tags": []
   },
   "outputs": [
    {
     "name": "stdout",
     "output_type": "stream",
     "text": [
      "['__notebook__.ipynb']\n"
     ]
    }
   ],
   "source": [
    "import os\n",
    "print(os.listdir(\"/kaggle/working\"))"
   ]
  },
  {
   "cell_type": "code",
   "execution_count": 12,
   "id": "49a37e46",
   "metadata": {
    "execution": {
     "iopub.execute_input": "2025-01-24T16:35:55.405125Z",
     "iopub.status.busy": "2025-01-24T16:35:55.404772Z",
     "iopub.status.idle": "2025-01-24T16:35:55.410590Z",
     "shell.execute_reply": "2025-01-24T16:35:55.409726Z"
    },
    "papermill": {
     "duration": 0.014418,
     "end_time": "2025-01-24T16:35:55.412283",
     "exception": false,
     "start_time": "2025-01-24T16:35:55.397865",
     "status": "completed"
    },
    "tags": []
   },
   "outputs": [
    {
     "name": "stdout",
     "output_type": "stream",
     "text": [
      "object\n"
     ]
    }
   ],
   "source": [
    "df['ship_date']=df['ship_date'].astype(\"str\")\n",
    "\n",
    "\n",
    "print(df[\"ship_date\"].dtype)"
   ]
  },
  {
   "cell_type": "code",
   "execution_count": 13,
   "id": "2bfeee81",
   "metadata": {
    "execution": {
     "iopub.execute_input": "2025-01-24T16:35:55.425879Z",
     "iopub.status.busy": "2025-01-24T16:35:55.425572Z",
     "iopub.status.idle": "2025-01-24T16:35:55.430557Z",
     "shell.execute_reply": "2025-01-24T16:35:55.429783Z"
    },
    "papermill": {
     "duration": 0.013452,
     "end_time": "2025-01-24T16:35:55.431995",
     "exception": false,
     "start_time": "2025-01-24T16:35:55.418543",
     "status": "completed"
    },
    "tags": []
   },
   "outputs": [],
   "source": [
    "df[\"sales\"]= df[\"sales\"].fillna(\"NAN\").astype(\"float64\")"
   ]
  },
  {
   "cell_type": "code",
   "execution_count": 14,
   "id": "0ec0cfda",
   "metadata": {
    "execution": {
     "iopub.execute_input": "2025-01-24T16:35:55.445352Z",
     "iopub.status.busy": "2025-01-24T16:35:55.445014Z",
     "iopub.status.idle": "2025-01-24T16:35:55.450600Z",
     "shell.execute_reply": "2025-01-24T16:35:55.449491Z"
    },
    "papermill": {
     "duration": 0.013944,
     "end_time": "2025-01-24T16:35:55.452205",
     "exception": false,
     "start_time": "2025-01-24T16:35:55.438261",
     "status": "completed"
    },
    "tags": []
   },
   "outputs": [
    {
     "name": "stdout",
     "output_type": "stream",
     "text": [
      "row_id             int64\n",
      "order_id          object\n",
      "order_date        object\n",
      "ship_date         object\n",
      "ship_mode         object\n",
      "customer_id       object\n",
      "customer_name     object\n",
      "segment           object\n",
      "country           object\n",
      "city              object\n",
      "state             object\n",
      "postal_code      float64\n",
      "region            object\n",
      "product_id        object\n",
      "category          object\n",
      "sub-category      object\n",
      "product_name      object\n",
      "sales            float64\n",
      "dtype: object\n"
     ]
    }
   ],
   "source": [
    "print(df.dtypes)"
   ]
  },
  {
   "cell_type": "code",
   "execution_count": 15,
   "id": "f11d08f4",
   "metadata": {
    "execution": {
     "iopub.execute_input": "2025-01-24T16:35:55.466063Z",
     "iopub.status.busy": "2025-01-24T16:35:55.465721Z",
     "iopub.status.idle": "2025-01-24T16:35:55.478656Z",
     "shell.execute_reply": "2025-01-24T16:35:55.477610Z"
    },
    "papermill": {
     "duration": 0.021618,
     "end_time": "2025-01-24T16:35:55.480276",
     "exception": false,
     "start_time": "2025-01-24T16:35:55.458658",
     "status": "completed"
    },
    "tags": []
   },
   "outputs": [
    {
     "name": "stdout",
     "output_type": "stream",
     "text": [
      "           min        max\n",
      "region                   \n",
      "Central  0.444  17499.950\n",
      "East     0.852  11199.968\n",
      "South    1.167  22638.480\n",
      "West     0.990  13999.960\n"
     ]
    },
    {
     "name": "stderr",
     "output_type": "stream",
     "text": [
      "<ipython-input-15-165083955512>:1: FutureWarning: The provided callable <built-in function min> is currently using SeriesGroupBy.min. In a future version of pandas, the provided callable will be used directly. To keep current behavior pass the string \"min\" instead.\n",
      "  print(df.groupby([\"region\"]).sales.agg([min,max]))\n",
      "<ipython-input-15-165083955512>:1: FutureWarning: The provided callable <built-in function max> is currently using SeriesGroupBy.max. In a future version of pandas, the provided callable will be used directly. To keep current behavior pass the string \"max\" instead.\n",
      "  print(df.groupby([\"region\"]).sales.agg([min,max]))\n"
     ]
    }
   ],
   "source": [
    "print(df.groupby([\"region\"]).sales.agg([min,max]))"
   ]
  },
  {
   "cell_type": "code",
   "execution_count": 16,
   "id": "570d6c9c",
   "metadata": {
    "execution": {
     "iopub.execute_input": "2025-01-24T16:35:55.494389Z",
     "iopub.status.busy": "2025-01-24T16:35:55.494043Z",
     "iopub.status.idle": "2025-01-24T16:35:55.506232Z",
     "shell.execute_reply": "2025-01-24T16:35:55.505076Z"
    },
    "papermill": {
     "duration": 0.021034,
     "end_time": "2025-01-24T16:35:55.507862",
     "exception": false,
     "start_time": "2025-01-24T16:35:55.486828",
     "status": "completed"
    },
    "tags": []
   },
   "outputs": [
    {
     "name": "stdout",
     "output_type": "stream",
     "text": [
      "                                                          mean\n",
      "product_name                                                  \n",
      "\"While you Were Out\" Message Book, One Form per...    8.409333\n",
      "#10 Gummed Flap White Envelopes, 100/Box             10.325000\n",
      "#10 Self-Seal White Envelopes                        27.170500\n",
      "#10 White Business Envelopes,4 1/8 x 9 1/2           63.202333\n",
      "#10- 4 1/8\" x 9 1/2\" Recycled Envelopes              28.667200\n",
      "...                                                        ...\n",
      "iKross Bluetooth Portable Keyboard + Cell Phone...   95.532000\n",
      "iOttie HLCRIO102 Car Mount                           43.178400\n",
      "iOttie XL Car Mount                                 111.944000\n",
      "invisibleSHIELD by ZAGG Smudge-Free Screen Prot...   63.222000\n",
      "netTALK DUO VoIP Telephone Service                  158.969714\n",
      "\n",
      "[1849 rows x 1 columns]\n"
     ]
    }
   ],
   "source": [
    "print(df.groupby([\"product_name\"]).sales.agg([\"mean\"]))"
   ]
  },
  {
   "cell_type": "code",
   "execution_count": 17,
   "id": "03cb79c0",
   "metadata": {
    "execution": {
     "iopub.execute_input": "2025-01-24T16:35:55.522198Z",
     "iopub.status.busy": "2025-01-24T16:35:55.521830Z",
     "iopub.status.idle": "2025-01-24T16:35:55.620217Z",
     "shell.execute_reply": "2025-01-24T16:35:55.619192Z"
    },
    "papermill": {
     "duration": 0.107245,
     "end_time": "2025-01-24T16:35:55.621827",
     "exception": false,
     "start_time": "2025-01-24T16:35:55.514582",
     "status": "completed"
    },
    "tags": []
   },
   "outputs": [
    {
     "name": "stdout",
     "output_type": "stream",
     "text": [
      "File saved successfully!\n"
     ]
    }
   ],
   "source": [
    "df.to_csv('/kaggle/working/cleaned_sales_data.csv', index=False)\n",
    "print(\"File saved successfully!\")"
   ]
  },
  {
   "cell_type": "code",
   "execution_count": 18,
   "id": "d9aba11a",
   "metadata": {
    "execution": {
     "iopub.execute_input": "2025-01-24T16:35:55.636240Z",
     "iopub.status.busy": "2025-01-24T16:35:55.635882Z",
     "iopub.status.idle": "2025-01-24T16:35:55.639924Z",
     "shell.execute_reply": "2025-01-24T16:35:55.638948Z"
    },
    "papermill": {
     "duration": 0.012936,
     "end_time": "2025-01-24T16:35:55.641491",
     "exception": false,
     "start_time": "2025-01-24T16:35:55.628555",
     "status": "completed"
    },
    "tags": []
   },
   "outputs": [],
   "source": [
    "conn = sqlite3.connect('/kaggle/working/sales_data.db')\n"
   ]
  },
  {
   "cell_type": "code",
   "execution_count": 19,
   "id": "913fa2da",
   "metadata": {
    "execution": {
     "iopub.execute_input": "2025-01-24T16:35:55.655522Z",
     "iopub.status.busy": "2025-01-24T16:35:55.655201Z",
     "iopub.status.idle": "2025-01-24T16:35:55.659121Z",
     "shell.execute_reply": "2025-01-24T16:35:55.658161Z"
    },
    "papermill": {
     "duration": 0.01247,
     "end_time": "2025-01-24T16:35:55.660560",
     "exception": false,
     "start_time": "2025-01-24T16:35:55.648090",
     "status": "completed"
    },
    "tags": []
   },
   "outputs": [],
   "source": [
    "cursor = conn.cursor()"
   ]
  },
  {
   "cell_type": "code",
   "execution_count": 20,
   "id": "e5adba5a",
   "metadata": {
    "execution": {
     "iopub.execute_input": "2025-01-24T16:35:55.674753Z",
     "iopub.status.busy": "2025-01-24T16:35:55.674434Z",
     "iopub.status.idle": "2025-01-24T16:35:55.696478Z",
     "shell.execute_reply": "2025-01-24T16:35:55.695214Z"
    },
    "papermill": {
     "duration": 0.030899,
     "end_time": "2025-01-24T16:35:55.698280",
     "exception": false,
     "start_time": "2025-01-24T16:35:55.667381",
     "status": "completed"
    },
    "tags": []
   },
   "outputs": [
    {
     "data": {
      "text/plain": [
       "<sqlite3.Cursor at 0x78d4bb04fdc0>"
      ]
     },
     "execution_count": 20,
     "metadata": {},
     "output_type": "execute_result"
    }
   ],
   "source": [
    "cursor.execute(\n",
    "     \"\"\"\n",
    "CREATE TABLE IF NOT EXISTS sales (\n",
    "    order_ID TEXT,\n",
    "    order_date TEXT,\n",
    "    ship_date TEXT,\n",
    "    customer_id TEXT,\n",
    "    customer_name TEXT,\n",
    "    segment TEXT,\n",
    "    city TEXT,\n",
    "    state TEXT,\n",
    "    region TEXT,\n",
    "    category TEXT,\n",
    "    sales REAL\n",
    "    )\n",
    " \"\"\"\n",
    ")\n"
   ]
  },
  {
   "cell_type": "code",
   "execution_count": 21,
   "id": "8ea76a70",
   "metadata": {
    "execution": {
     "iopub.execute_input": "2025-01-24T16:35:55.712768Z",
     "iopub.status.busy": "2025-01-24T16:35:55.712433Z",
     "iopub.status.idle": "2025-01-24T16:35:55.716055Z",
     "shell.execute_reply": "2025-01-24T16:35:55.715287Z"
    },
    "papermill": {
     "duration": 0.012293,
     "end_time": "2025-01-24T16:35:55.717478",
     "exception": false,
     "start_time": "2025-01-24T16:35:55.705185",
     "status": "completed"
    },
    "tags": []
   },
   "outputs": [],
   "source": [
    "conn.commit()"
   ]
  },
  {
   "cell_type": "code",
   "execution_count": 22,
   "id": "05f96f34",
   "metadata": {
    "execution": {
     "iopub.execute_input": "2025-01-24T16:35:55.731648Z",
     "iopub.status.busy": "2025-01-24T16:35:55.731355Z",
     "iopub.status.idle": "2025-01-24T16:35:56.436676Z",
     "shell.execute_reply": "2025-01-24T16:35:56.435696Z"
    },
    "papermill": {
     "duration": 0.714295,
     "end_time": "2025-01-24T16:35:56.438462",
     "exception": false,
     "start_time": "2025-01-24T16:35:55.724167",
     "status": "completed"
    },
    "tags": []
   },
   "outputs": [
    {
     "data": {
      "text/plain": [
       "<sqlite3.Cursor at 0x78d4bb04fdc0>"
      ]
     },
     "execution_count": 22,
     "metadata": {},
     "output_type": "execute_result"
    }
   ],
   "source": [
    "for index,row in df.iterrows():\n",
    "    data = (\n",
    "        \n",
    "        row['order_id'], \n",
    "        row['order_date'], \n",
    "        row['ship_date'], \n",
    "        row['customer_id'], \n",
    "        row['customer_name'],\n",
    "        row['segment'], \n",
    "        row['city'], \n",
    "        row['state'], \n",
    "        row['region'], \n",
    "        row['category'], \n",
    "        row['sales']\n",
    "    \n",
    "    )\n",
    "\n",
    "cursor.execute(\"\"\"\n",
    "\n",
    "INSERT INTO sales(\n",
    "            order_id, order_date, ship_date, customer_id, customer_name, \n",
    "            segment, city, state, region, category, sales ) \n",
    "            VALUES (?, ?, ?, ?, ?, ?, ?, ?, ?, ?, ?)\"\"\", data)\n",
    "\n",
    "\n",
    "\n",
    "\n",
    "    "
   ]
  },
  {
   "cell_type": "code",
   "execution_count": 23,
   "id": "70038d99",
   "metadata": {
    "execution": {
     "iopub.execute_input": "2025-01-24T16:35:56.453071Z",
     "iopub.status.busy": "2025-01-24T16:35:56.452735Z",
     "iopub.status.idle": "2025-01-24T16:35:56.465950Z",
     "shell.execute_reply": "2025-01-24T16:35:56.465134Z"
    },
    "papermill": {
     "duration": 0.022241,
     "end_time": "2025-01-24T16:35:56.467597",
     "exception": false,
     "start_time": "2025-01-24T16:35:56.445356",
     "status": "completed"
    },
    "tags": []
   },
   "outputs": [],
   "source": [
    "conn.commit()"
   ]
  },
  {
   "cell_type": "code",
   "execution_count": 24,
   "id": "c2cfb41d",
   "metadata": {
    "execution": {
     "iopub.execute_input": "2025-01-24T16:35:56.482327Z",
     "iopub.status.busy": "2025-01-24T16:35:56.481981Z",
     "iopub.status.idle": "2025-01-24T16:35:56.486466Z",
     "shell.execute_reply": "2025-01-24T16:35:56.485427Z"
    },
    "papermill": {
     "duration": 0.01359,
     "end_time": "2025-01-24T16:35:56.488159",
     "exception": false,
     "start_time": "2025-01-24T16:35:56.474569",
     "status": "completed"
    },
    "tags": []
   },
   "outputs": [
    {
     "name": "stdout",
     "output_type": "stream",
     "text": [
      "1\n"
     ]
    }
   ],
   "source": [
    "print(cursor.rowcount)"
   ]
  }
 ],
 "metadata": {
  "kaggle": {
   "accelerator": "none",
   "dataSources": [
    {
     "datasetId": 835308,
     "sourceId": 1480443,
     "sourceType": "datasetVersion"
    }
   ],
   "dockerImageVersionId": 30839,
   "isGpuEnabled": false,
   "isInternetEnabled": false,
   "language": "python",
   "sourceType": "notebook"
  },
  "kernelspec": {
   "display_name": "Python 3",
   "language": "python",
   "name": "python3"
  },
  "language_info": {
   "codemirror_mode": {
    "name": "ipython",
    "version": 3
   },
   "file_extension": ".py",
   "mimetype": "text/x-python",
   "name": "python",
   "nbconvert_exporter": "python",
   "pygments_lexer": "ipython3",
   "version": "3.10.12"
  },
  "papermill": {
   "default_parameters": {},
   "duration": 5.460874,
   "end_time": "2025-01-24T16:35:57.013474",
   "environment_variables": {},
   "exception": null,
   "input_path": "__notebook__.ipynb",
   "output_path": "__notebook__.ipynb",
   "parameters": {},
   "start_time": "2025-01-24T16:35:51.552600",
   "version": "2.6.0"
  }
 },
 "nbformat": 4,
 "nbformat_minor": 5
}
